{
 "cells": [
  {
   "cell_type": "code",
   "execution_count": 146,
   "metadata": {},
   "outputs": [],
   "source": [
    "from spellchecker import SpellChecker\n",
    "import codecs"
   ]
  },
  {
   "cell_type": "code",
   "execution_count": null,
   "metadata": {},
   "outputs": [],
   "source": [
    "dict_path = \"/media/nas_mount/Rohan/out_latest/out/data_raw/dict.src.txt\"\n",
    "\n",
    "#files having sentences with annotations\n",
    "test_file_path = \"/home/rohan/tejas/fairseq-gec_copy/data/test.m2\"\n",
    "output_file_path = \"/home/rohan/tejas/fairseq-gec_copy/data/spell_test.m2\"\n",
    "\n",
    "#files having sentences without annotations\n",
    "raw_file_in = \"/media/nas_mount/Rohan/out_latest/out/data_raw/test.src-tgt.src.old\"\n",
    "raw_file_out = \"/media/nas_mount/Rohan/out_latest/out/data_raw/spell_raw_connl.txt\"\n",
    "\n",
    "spell = SpellChecker()\n",
    "spell.word_frequency.load_text_file(dict_path)\n",
    "#remove this\n",
    "word = \"*\"\n",
    "print(spell.correction(word))"
   ]
  },
  {
   "cell_type": "code",
   "execution_count": 148,
   "metadata": {},
   "outputs": [],
   "source": [
    "def correction(word):\n",
    "    #returns corrected word\n",
    "    return spell.correction(word)\n",
    "\n",
    "def split_string(string): \n",
    "  \n",
    "    # Split the string based on space delimiter \n",
    "    list_string = string.split(' ') \n",
    "    return list_string\n",
    "\n",
    "  \n",
    "def join_string(list_string): \n",
    "    # Join the string based on '-' delimiter \n",
    "    string = ' '.join(list_string)\n",
    "    return string \n",
    "\n",
    "def correct_line(line,raw = False):\n",
    "    list_string = split_string(line)\n",
    "    list_string[-1] = list_string[-1].strip()\n",
    "    corrected_list = [correction(x) for x in list_string]\n",
    "    if(not raw):\n",
    "        corrected_list.append(\"\\n\")\n",
    "    line = join_string(corrected_list)\n",
    "    return line\n",
    "\n",
    "\n",
    "    \n",
    "    \n",
    "def read_file(file):\n",
    "    fp=codecs.open(file,\"r\",encoding='utf8',errors='ignore')\n",
    "    text=fp.readlines()\n",
    "    return text\n",
    "\n",
    "def write_file(file,lines):\n",
    "    f = open(file, 'w')\n",
    "    f.writelines(lines)\n",
    "    f.close()    \n",
    "    \n",
    "def is_annot(line):\n",
    "    line_string = split_string(line)\n",
    "    if(len(line_string)>=3):\n",
    "        if(line_string[0]=='A' and line_string[1].isnumeric()):\n",
    "             return True\n",
    "    return False\n",
    "        "
   ]
  },
  {
   "cell_type": "code",
   "execution_count": 149,
   "metadata": {},
   "outputs": [],
   "source": [
    "lines = read_file(test_file_path)\n"
   ]
  },
  {
   "cell_type": "code",
   "execution_count": null,
   "metadata": {},
   "outputs": [],
   "source": [
    "new_lines = []\n",
    "#%%time\n",
    "for line in lines:\n",
    "    if is_annot(line) or (not line.strip()):\n",
    "        #don't correct\n",
    "        pass\n",
    "    else:\n",
    "        line = correct_line(line)\n",
    "    new_lines.append(line)\n",
    "\n",
    "write_file(output_file_path,new_lines)"
   ]
  },
  {
   "cell_type": "code",
   "execution_count": 112,
   "metadata": {},
   "outputs": [
    {
     "name": "stdout",
     "output_type": "stream",
     "text": [
      "['S Keeping the Secret of Genetic Testing\\n', '\\n', 'S What is genetic risk ?\\n']\n"
     ]
    }
   ],
   "source": [
    "print(lines[:3])"
   ]
  },
  {
   "cell_type": "code",
   "execution_count": null,
   "metadata": {},
   "outputs": [],
   "source": [
    "#for raw file\n",
    "lines = read_file(raw_file_in)\n",
    "new_lines = []\n",
    "for line in lines:\n",
    "    line = correct_line(line)\n",
    "    new_lines.append(line)\n",
    "\n",
    "write_file(raw_file_out,new_lines)"
   ]
  }
 ],
 "metadata": {
  "kernelspec": {
   "display_name": "Python 3",
   "language": "python",
   "name": "python3"
  },
  "language_info": {
   "codemirror_mode": {
    "name": "ipython",
    "version": 3
   },
   "file_extension": ".py",
   "mimetype": "text/x-python",
   "name": "python",
   "nbconvert_exporter": "python",
   "pygments_lexer": "ipython3",
   "version": "3.6.10"
  }
 },
 "nbformat": 4,
 "nbformat_minor": 2
}
